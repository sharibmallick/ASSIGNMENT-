{
  "nbformat": 4,
  "nbformat_minor": 0,
  "metadata": {
    "colab": {
      "provenance": []
    },
    "kernelspec": {
      "name": "python3",
      "display_name": "Python 3"
    },
    "language_info": {
      "name": "python"
    }
  },
  "cells": [
    {
      "cell_type": "code",
      "execution_count": 1,
      "metadata": {
        "colab": {
          "base_uri": "https://localhost:8080/"
        },
        "id": "2fltpefmtepg",
        "outputId": "efef0ecf-6d63-448d-c052-b076ac7249ed"
      },
      "outputs": [
        {
          "output_type": "stream",
          "name": "stdout",
          "text": [
            "Positive comments: 66.66666666666666%\n",
            "Negative comments: 33.33333333333333%\n"
          ]
        }
      ],
      "source": [
        "from textblob import TextBlob\n",
        "\n",
        "# Sample comments (replace with actual data)\n",
        "comments = [\n",
        "    \"I love this webtoon, it's amazing!\",\n",
        "    \"I didn't like the recent chapters, too slow.\",\n",
        "    \"The artwork is stunning, really enjoyed it.\"\n",
        "]\n",
        "\n",
        "# Function to determine sentiment\n",
        "def get_sentiment(comment):\n",
        "    analysis = TextBlob(comment)\n",
        "    return 'positive' if analysis.sentiment.polarity > 0 else 'negative'\n",
        "\n",
        "# Apply sentiment analysis to each comment\n",
        "sentiments = [get_sentiment(comment) for comment in comments]\n",
        "\n",
        "# Count positive and negative comments\n",
        "positive_comments = sentiments.count('positive')\n",
        "negative_comments = sentiments.count('negative')\n",
        "\n",
        "# Output summary\n",
        "total_comments = len(comments)\n",
        "print(f\"Positive comments: {positive_comments / total_comments * 100}%\")\n",
        "print(f\"Negative comments: {negative_comments / total_comments * 100}%\")\n"
      ]
    }
  ]
}