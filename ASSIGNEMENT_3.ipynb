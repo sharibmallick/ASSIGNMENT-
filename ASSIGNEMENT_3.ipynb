{
  "nbformat": 4,
  "nbformat_minor": 0,
  "metadata": {
    "colab": {
      "provenance": []
    },
    "kernelspec": {
      "name": "python3",
      "display_name": "Python 3"
    },
    "language_info": {
      "name": "python"
    }
  },
  "cells": [
    {
      "cell_type": "code",
      "execution_count": null,
      "metadata": {
        "id": "Qb5EJrVTtw_U"
      },
      "outputs": [],
      "source": [
        "import nltk\n",
        "\n",
        "# Sample questions and responses\n",
        "responses = {\n",
        "    'about': 'Castle Swimmer is about a young fish named Kappa, who is the prophesied \"Beacon\" for underwater kingdoms.',\n",
        "    'characters': 'The main characters in Castle Swimmer are Kappa and Siren.',\n",
        "    'prophecy': 'The prophecy in Castle Swimmer reveals Kappa’s destiny to guide underwater kingdoms.'\n",
        "}\n",
        "\n",
        "# Tokenize user input and match keywords to predefined responses\n",
        "def chatbot_response(user_input):\n",
        "    tokens = nltk.word_tokenize(user_input.lower())\n",
        "    for token in tokens:\n",
        "        if token in responses:\n",
        "            return responses[token]\n",
        "    return \"Sorry, I don't understand your question.\"\n",
        "\n",
        "# Example interaction\n",
        "user_input = input(\"Ask me about Castle Swimmer: \")\n",
        "print(chatbot_response(user_input))\n"
      ]
    }
  ]
}